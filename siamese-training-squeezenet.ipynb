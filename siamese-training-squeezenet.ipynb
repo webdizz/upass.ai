{
 "cells": [
  {
   "cell_type": "code",
   "execution_count": 1,
   "metadata": {},
   "outputs": [],
   "source": [
    "%load_ext autoreload\n",
    "%autoreload 2\n",
    "%matplotlib inline"
   ]
  },
  {
   "cell_type": "code",
   "execution_count": 2,
   "metadata": {},
   "outputs": [
    {
     "data": {
      "text/plain": [
       "'1.0.39'"
      ]
     },
     "execution_count": 2,
     "metadata": {},
     "output_type": "execute_result"
    }
   ],
   "source": [
    "import fastai\n",
    "from fastai import *\n",
    "from fastai.vision import *\n",
    "from upassai import *\n",
    "fastai.__version__"
   ]
  },
  {
   "cell_type": "code",
   "execution_count": 3,
   "metadata": {},
   "outputs": [],
   "source": [
    "vggface2_path = '../data/vggface2'"
   ]
  },
  {
   "cell_type": "markdown",
   "metadata": {},
   "source": [
    "## prepare valid dataset"
   ]
  },
  {
   "cell_type": "code",
   "execution_count": 4,
   "metadata": {},
   "outputs": [],
   "source": [
    "valid_df = pd.read_csv('dataset/valid_result.csv')\n",
    "# 20750\n",
    "valid_df = valid_df.loc[1:6400]"
   ]
  },
  {
   "cell_type": "code",
   "execution_count": 5,
   "metadata": {},
   "outputs": [
    {
     "data": {
      "text/plain": [
       "6400"
      ]
     },
     "execution_count": 5,
     "metadata": {},
     "output_type": "execute_result"
    }
   ],
   "source": [
    "len(valid_df)"
   ]
  },
  {
   "cell_type": "code",
   "execution_count": 6,
   "metadata": {},
   "outputs": [],
   "source": [
    "valid_source = create_bunch(valid_df, cols='source',\n",
    "                            path=vggface2_path+'/valid/')\n",
    "valid_target = create_bunch(valid_df, cols='target',\n",
    "                            path=vggface2_path+'/valid/')\n",
    "# valid_source.transform(get_transforms())"
   ]
  },
  {
   "cell_type": "code",
   "execution_count": 7,
   "metadata": {},
   "outputs": [],
   "source": [
    "valid_ds = TwinDataset(valid_source.train_ds, valid_target.train_ds)"
   ]
  },
  {
   "cell_type": "markdown",
   "metadata": {},
   "source": [
    "## prepare train dataset"
   ]
  },
  {
   "cell_type": "code",
   "execution_count": 8,
   "metadata": {},
   "outputs": [],
   "source": [
    "train_df = pd.read_csv('dataset/train_result.csv')\n",
    "#392050\n",
    "train_df = train_df.loc[1:384000]\n",
    "# train_df = train_df.loc[1:160000]"
   ]
  },
  {
   "cell_type": "code",
   "execution_count": 9,
   "metadata": {},
   "outputs": [
    {
     "data": {
      "text/plain": [
       "384000"
      ]
     },
     "execution_count": 9,
     "metadata": {},
     "output_type": "execute_result"
    }
   ],
   "source": [
    "len(train_df)"
   ]
  },
  {
   "cell_type": "code",
   "execution_count": 10,
   "metadata": {},
   "outputs": [],
   "source": [
    "train_source = create_bunch(train_df, cols='source',\n",
    "                            path=vggface2_path+'/train/')\n",
    "train_target = create_bunch(train_df, cols='target',\n",
    "                            path=vggface2_path+'/train/')"
   ]
  },
  {
   "cell_type": "code",
   "execution_count": 11,
   "metadata": {},
   "outputs": [],
   "source": [
    "train_ds = TwinDataset(train_source.train_ds, train_target.train_ds)"
   ]
  },
  {
   "cell_type": "markdown",
   "metadata": {},
   "source": [
    "## final databunch"
   ]
  },
  {
   "cell_type": "code",
   "execution_count": 12,
   "metadata": {},
   "outputs": [],
   "source": [
    "twin_databunch = DataBunch.create(\n",
    "    train_ds=train_ds, valid_ds=valid_ds, path=vggface2_path, bs=16)"
   ]
  },
  {
   "cell_type": "markdown",
   "metadata": {},
   "source": [
    "## training"
   ]
  },
  {
   "cell_type": "code",
   "execution_count": 13,
   "metadata": {},
   "outputs": [],
   "source": [
    "from fastai.callbacks.tracker import *"
   ]
  },
  {
   "cell_type": "code",
   "execution_count": 14,
   "metadata": {},
   "outputs": [],
   "source": [
    "import torchvision"
   ]
  },
  {
   "cell_type": "code",
   "execution_count": 15,
   "metadata": {},
   "outputs": [
    {
     "name": "stderr",
     "output_type": "stream",
     "text": [
      "/opt/conda/envs/upass/lib/python3.7/site-packages/torchvision/models/squeezenet.py:94: UserWarning: nn.init.kaiming_uniform is now deprecated in favor of nn.init.kaiming_uniform_.\n",
      "  init.kaiming_uniform(m.weight.data)\n",
      "/opt/conda/envs/upass/lib/python3.7/site-packages/torchvision/models/squeezenet.py:92: UserWarning: nn.init.normal is now deprecated in favor of nn.init.normal_.\n",
      "  init.normal(m.weight.data, mean=0.0, std=0.01)\n"
     ]
    },
    {
     "data": {
      "text/plain": [
       "Learner(data=DataBunch;\n",
       "\n",
       "Train: <upassai.data.TwinDataset object at 0x7f73e9e4be10>;\n",
       "\n",
       "Valid: <upassai.data.TwinDataset object at 0x7f7402364e48>;\n",
       "\n",
       "Test: None, model=SiameseNetwork(\n",
       "  (body): Sequential(\n",
       "    (0): Sequential(\n",
       "      (0): Conv2d(3, 64, kernel_size=(3, 3), stride=(2, 2))\n",
       "      (1): ReLU(inplace)\n",
       "      (2): MaxPool2d(kernel_size=3, stride=2, padding=0, dilation=1, ceil_mode=True)\n",
       "      (3): Fire(\n",
       "        (squeeze): Conv2d(64, 16, kernel_size=(1, 1), stride=(1, 1))\n",
       "        (squeeze_activation): ReLU(inplace)\n",
       "        (expand1x1): Conv2d(16, 64, kernel_size=(1, 1), stride=(1, 1))\n",
       "        (expand1x1_activation): ReLU(inplace)\n",
       "        (expand3x3): Conv2d(16, 64, kernel_size=(3, 3), stride=(1, 1), padding=(1, 1))\n",
       "        (expand3x3_activation): ReLU(inplace)\n",
       "      )\n",
       "      (4): Fire(\n",
       "        (squeeze): Conv2d(128, 16, kernel_size=(1, 1), stride=(1, 1))\n",
       "        (squeeze_activation): ReLU(inplace)\n",
       "        (expand1x1): Conv2d(16, 64, kernel_size=(1, 1), stride=(1, 1))\n",
       "        (expand1x1_activation): ReLU(inplace)\n",
       "        (expand3x3): Conv2d(16, 64, kernel_size=(3, 3), stride=(1, 1), padding=(1, 1))\n",
       "        (expand3x3_activation): ReLU(inplace)\n",
       "      )\n",
       "      (5): MaxPool2d(kernel_size=3, stride=2, padding=0, dilation=1, ceil_mode=True)\n",
       "      (6): Fire(\n",
       "        (squeeze): Conv2d(128, 32, kernel_size=(1, 1), stride=(1, 1))\n",
       "        (squeeze_activation): ReLU(inplace)\n",
       "        (expand1x1): Conv2d(32, 128, kernel_size=(1, 1), stride=(1, 1))\n",
       "        (expand1x1_activation): ReLU(inplace)\n",
       "        (expand3x3): Conv2d(32, 128, kernel_size=(3, 3), stride=(1, 1), padding=(1, 1))\n",
       "        (expand3x3_activation): ReLU(inplace)\n",
       "      )\n",
       "      (7): Fire(\n",
       "        (squeeze): Conv2d(256, 32, kernel_size=(1, 1), stride=(1, 1))\n",
       "        (squeeze_activation): ReLU(inplace)\n",
       "        (expand1x1): Conv2d(32, 128, kernel_size=(1, 1), stride=(1, 1))\n",
       "        (expand1x1_activation): ReLU(inplace)\n",
       "        (expand3x3): Conv2d(32, 128, kernel_size=(3, 3), stride=(1, 1), padding=(1, 1))\n",
       "        (expand3x3_activation): ReLU(inplace)\n",
       "      )\n",
       "      (8): MaxPool2d(kernel_size=3, stride=2, padding=0, dilation=1, ceil_mode=True)\n",
       "      (9): Fire(\n",
       "        (squeeze): Conv2d(256, 48, kernel_size=(1, 1), stride=(1, 1))\n",
       "        (squeeze_activation): ReLU(inplace)\n",
       "        (expand1x1): Conv2d(48, 192, kernel_size=(1, 1), stride=(1, 1))\n",
       "        (expand1x1_activation): ReLU(inplace)\n",
       "        (expand3x3): Conv2d(48, 192, kernel_size=(3, 3), stride=(1, 1), padding=(1, 1))\n",
       "        (expand3x3_activation): ReLU(inplace)\n",
       "      )\n",
       "      (10): Fire(\n",
       "        (squeeze): Conv2d(384, 48, kernel_size=(1, 1), stride=(1, 1))\n",
       "        (squeeze_activation): ReLU(inplace)\n",
       "        (expand1x1): Conv2d(48, 192, kernel_size=(1, 1), stride=(1, 1))\n",
       "        (expand1x1_activation): ReLU(inplace)\n",
       "        (expand3x3): Conv2d(48, 192, kernel_size=(3, 3), stride=(1, 1), padding=(1, 1))\n",
       "        (expand3x3_activation): ReLU(inplace)\n",
       "      )\n",
       "      (11): Fire(\n",
       "        (squeeze): Conv2d(384, 64, kernel_size=(1, 1), stride=(1, 1))\n",
       "        (squeeze_activation): ReLU(inplace)\n",
       "        (expand1x1): Conv2d(64, 256, kernel_size=(1, 1), stride=(1, 1))\n",
       "        (expand1x1_activation): ReLU(inplace)\n",
       "        (expand3x3): Conv2d(64, 256, kernel_size=(3, 3), stride=(1, 1), padding=(1, 1))\n",
       "        (expand3x3_activation): ReLU(inplace)\n",
       "      )\n",
       "      (12): Fire(\n",
       "        (squeeze): Conv2d(512, 64, kernel_size=(1, 1), stride=(1, 1))\n",
       "        (squeeze_activation): ReLU(inplace)\n",
       "        (expand1x1): Conv2d(64, 256, kernel_size=(1, 1), stride=(1, 1))\n",
       "        (expand1x1_activation): ReLU(inplace)\n",
       "        (expand3x3): Conv2d(64, 256, kernel_size=(3, 3), stride=(1, 1), padding=(1, 1))\n",
       "        (expand3x3_activation): ReLU(inplace)\n",
       "      )\n",
       "    )\n",
       "  )\n",
       "  (head): Sequential(\n",
       "    (0): AdaptiveConcatPool2d(\n",
       "      (ap): AdaptiveAvgPool2d(output_size=1)\n",
       "      (mp): AdaptiveMaxPool2d(output_size=1)\n",
       "    )\n",
       "    (1): Lambda()\n",
       "    (2): BatchNorm1d(1024, eps=1e-05, momentum=0.1, affine=True, track_running_stats=True)\n",
       "    (3): Dropout(p=0.25)\n",
       "    (4): Linear(in_features=1024, out_features=800, bias=True)\n",
       "    (5): ReLU(inplace)\n",
       "    (6): BatchNorm1d(800, eps=1e-05, momentum=0.1, affine=True, track_running_stats=True)\n",
       "    (7): Dropout(p=0.25)\n",
       "    (8): Linear(in_features=800, out_features=500, bias=True)\n",
       "    (9): ReLU(inplace)\n",
       "    (10): BatchNorm1d(500, eps=1e-05, momentum=0.1, affine=True, track_running_stats=True)\n",
       "    (11): Dropout(p=0.25)\n",
       "    (12): Linear(in_features=500, out_features=300, bias=True)\n",
       "    (13): ReLU(inplace)\n",
       "    (14): BatchNorm1d(300, eps=1e-05, momentum=0.1, affine=True, track_running_stats=True)\n",
       "    (15): Dropout(p=0.25)\n",
       "    (16): Linear(in_features=300, out_features=100, bias=True)\n",
       "    (17): ReLU(inplace)\n",
       "    (18): BatchNorm1d(100, eps=1e-05, momentum=0.1, affine=True, track_running_stats=True)\n",
       "    (19): Dropout(p=0.25)\n",
       "    (20): Linear(in_features=100, out_features=50, bias=True)\n",
       "    (21): ReLU(inplace)\n",
       "    (22): BatchNorm1d(50, eps=1e-05, momentum=0.1, affine=True, track_running_stats=True)\n",
       "    (23): Dropout(p=0.25)\n",
       "    (24): Linear(in_features=50, out_features=20, bias=True)\n",
       "    (25): ReLU(inplace)\n",
       "    (26): BatchNorm1d(20, eps=1e-05, momentum=0.1, affine=True, track_running_stats=True)\n",
       "    (27): Dropout(p=0.5)\n",
       "    (28): Linear(in_features=20, out_features=20, bias=True)\n",
       "  )\n",
       "), opt_func=functools.partial(<class 'torch.optim.adam.Adam'>, betas=(0.9, 0.99)), loss_func=<function contrastive_loss at 0x7f7402627840>, metrics=[], true_wd=True, bn_wd=True, wd=0.01, train_bn=True, path=PosixPath('../data/vggface2/squeezenet'), model_dir='models', callback_fns=[<class 'fastai.basic_train.Recorder'>], callbacks=[<fastai.callbacks.tracker.TerminateOnNaNCallback object at 0x7f73ea54a5c0>, SaveModelCallback(learn=..., monitor='val_loss', mode='auto', every='improvement', name='bestmodel'), EarlyStoppingCallback(learn=..., monitor='val_loss', mode='auto', min_delta=0, patience=3)], layer_groups=[Sequential(\n",
       "  (0): Conv2d(3, 64, kernel_size=(3, 3), stride=(2, 2))\n",
       "  (1): ReLU(inplace)\n",
       "  (2): MaxPool2d(kernel_size=3, stride=2, padding=0, dilation=1, ceil_mode=True)\n",
       "  (3): Conv2d(64, 16, kernel_size=(1, 1), stride=(1, 1))\n",
       "  (4): ReLU(inplace)\n",
       "  (5): Conv2d(16, 64, kernel_size=(1, 1), stride=(1, 1))\n",
       "  (6): ReLU(inplace)\n",
       "  (7): Conv2d(16, 64, kernel_size=(3, 3), stride=(1, 1), padding=(1, 1))\n",
       "  (8): ReLU(inplace)\n",
       "  (9): Conv2d(128, 16, kernel_size=(1, 1), stride=(1, 1))\n",
       "  (10): ReLU(inplace)\n",
       "  (11): Conv2d(16, 64, kernel_size=(1, 1), stride=(1, 1))\n",
       "  (12): ReLU(inplace)\n",
       "  (13): Conv2d(16, 64, kernel_size=(3, 3), stride=(1, 1), padding=(1, 1))\n",
       "  (14): ReLU(inplace)\n",
       "  (15): MaxPool2d(kernel_size=3, stride=2, padding=0, dilation=1, ceil_mode=True)\n",
       "  (16): Conv2d(128, 32, kernel_size=(1, 1), stride=(1, 1))\n",
       "  (17): ReLU(inplace)\n",
       "  (18): Conv2d(32, 128, kernel_size=(1, 1), stride=(1, 1))\n",
       "  (19): ReLU(inplace)\n",
       "  (20): Conv2d(32, 128, kernel_size=(3, 3), stride=(1, 1), padding=(1, 1))\n",
       "  (21): ReLU(inplace)\n",
       "  (22): Conv2d(256, 32, kernel_size=(1, 1), stride=(1, 1))\n",
       "  (23): ReLU(inplace)\n",
       "  (24): Conv2d(32, 128, kernel_size=(1, 1), stride=(1, 1))\n",
       "  (25): ReLU(inplace)\n",
       "  (26): Conv2d(32, 128, kernel_size=(3, 3), stride=(1, 1), padding=(1, 1))\n",
       "  (27): ReLU(inplace)\n",
       "  (28): MaxPool2d(kernel_size=3, stride=2, padding=0, dilation=1, ceil_mode=True)\n",
       "  (29): Conv2d(256, 48, kernel_size=(1, 1), stride=(1, 1))\n",
       "  (30): ReLU(inplace)\n",
       "  (31): Conv2d(48, 192, kernel_size=(1, 1), stride=(1, 1))\n",
       "  (32): ReLU(inplace)\n",
       "  (33): Conv2d(48, 192, kernel_size=(3, 3), stride=(1, 1), padding=(1, 1))\n",
       "  (34): ReLU(inplace)\n",
       "  (35): Conv2d(384, 48, kernel_size=(1, 1), stride=(1, 1))\n",
       "  (36): ReLU(inplace)\n",
       "  (37): Conv2d(48, 192, kernel_size=(1, 1), stride=(1, 1))\n",
       "  (38): ReLU(inplace)\n",
       "  (39): Conv2d(48, 192, kernel_size=(3, 3), stride=(1, 1), padding=(1, 1))\n",
       "  (40): ReLU(inplace)\n",
       "  (41): Conv2d(384, 64, kernel_size=(1, 1), stride=(1, 1))\n",
       "  (42): ReLU(inplace)\n",
       "  (43): Conv2d(64, 256, kernel_size=(1, 1), stride=(1, 1))\n",
       "  (44): ReLU(inplace)\n",
       "  (45): Conv2d(64, 256, kernel_size=(3, 3), stride=(1, 1), padding=(1, 1))\n",
       "  (46): ReLU(inplace)\n",
       "  (47): Conv2d(512, 64, kernel_size=(1, 1), stride=(1, 1))\n",
       "  (48): ReLU(inplace)\n",
       "  (49): Conv2d(64, 256, kernel_size=(1, 1), stride=(1, 1))\n",
       "  (50): ReLU(inplace)\n",
       "  (51): Conv2d(64, 256, kernel_size=(3, 3), stride=(1, 1), padding=(1, 1))\n",
       "  (52): ReLU(inplace)\n",
       "  (53): AdaptiveAvgPool2d(output_size=1)\n",
       "  (54): AdaptiveMaxPool2d(output_size=1)\n",
       "  (55): Lambda()\n",
       "  (56): BatchNorm1d(1024, eps=1e-05, momentum=0.1, affine=True, track_running_stats=True)\n",
       "  (57): Dropout(p=0.25)\n",
       "  (58): Linear(in_features=1024, out_features=800, bias=True)\n",
       "  (59): ReLU(inplace)\n",
       "  (60): BatchNorm1d(800, eps=1e-05, momentum=0.1, affine=True, track_running_stats=True)\n",
       "  (61): Dropout(p=0.25)\n",
       "  (62): Linear(in_features=800, out_features=500, bias=True)\n",
       "  (63): BatchNorm1d(500, eps=1e-05, momentum=0.1, affine=True, track_running_stats=True)\n",
       "  (64): Dropout(p=0.25)\n",
       "  (65): Linear(in_features=500, out_features=300, bias=True)\n",
       "  (66): BatchNorm1d(300, eps=1e-05, momentum=0.1, affine=True, track_running_stats=True)\n",
       "  (67): Dropout(p=0.25)\n",
       "  (68): Linear(in_features=300, out_features=100, bias=True)\n",
       "  (69): BatchNorm1d(100, eps=1e-05, momentum=0.1, affine=True, track_running_stats=True)\n",
       "  (70): Dropout(p=0.25)\n",
       "  (71): Linear(in_features=100, out_features=50, bias=True)\n",
       "  (72): BatchNorm1d(50, eps=1e-05, momentum=0.1, affine=True, track_running_stats=True)\n",
       "  (73): Dropout(p=0.25)\n",
       "  (74): Linear(in_features=50, out_features=20, bias=True)\n",
       "  (75): BatchNorm1d(20, eps=1e-05, momentum=0.1, affine=True, track_running_stats=True)\n",
       "  (76): Dropout(p=0.5)\n",
       "  (77): Linear(in_features=20, out_features=20, bias=True)\n",
       ")])"
      ]
     },
     "execution_count": 15,
     "metadata": {},
     "output_type": "execute_result"
    }
   ],
   "source": [
    "learner = Learner(twin_databunch,\n",
    "                  SiameseNetwork(\n",
    "                      architecture=torchvision.models.squeezenet1_1,\n",
    "                      nf=1024, nc=20,\n",
    "                      lin_ftrs=[800, 500, 300, 100, 50, 20]),\n",
    "                  loss_func=contrastive_loss,\n",
    "                  path=twin_databunch.path.joinpath('squeezenet')\n",
    "                  )\n",
    "\n",
    "learner.callbacks.append(TerminateOnNaNCallback())\n",
    "learner.callbacks.append(SaveModelCallback(learner))\n",
    "learner.callbacks.append(EarlyStoppingCallback(learner, patience=3))\n",
    "\n",
    "learner"
   ]
  },
  {
   "cell_type": "code",
   "execution_count": 16,
   "metadata": {},
   "outputs": [
    {
     "data": {
      "text/plain": [
       "Learner(data=DataBunch;\n",
       "\n",
       "Train: <upassai.data.TwinDataset object at 0x7f73e9e4be10>;\n",
       "\n",
       "Valid: <upassai.data.TwinDataset object at 0x7f7402364e48>;\n",
       "\n",
       "Test: None, model=SiameseNetwork(\n",
       "  (body): Sequential(\n",
       "    (0): Sequential(\n",
       "      (0): Conv2d(3, 64, kernel_size=(3, 3), stride=(2, 2))\n",
       "      (1): ReLU(inplace)\n",
       "      (2): MaxPool2d(kernel_size=3, stride=2, padding=0, dilation=1, ceil_mode=True)\n",
       "      (3): Fire(\n",
       "        (squeeze): Conv2d(64, 16, kernel_size=(1, 1), stride=(1, 1))\n",
       "        (squeeze_activation): ReLU(inplace)\n",
       "        (expand1x1): Conv2d(16, 64, kernel_size=(1, 1), stride=(1, 1))\n",
       "        (expand1x1_activation): ReLU(inplace)\n",
       "        (expand3x3): Conv2d(16, 64, kernel_size=(3, 3), stride=(1, 1), padding=(1, 1))\n",
       "        (expand3x3_activation): ReLU(inplace)\n",
       "      )\n",
       "      (4): Fire(\n",
       "        (squeeze): Conv2d(128, 16, kernel_size=(1, 1), stride=(1, 1))\n",
       "        (squeeze_activation): ReLU(inplace)\n",
       "        (expand1x1): Conv2d(16, 64, kernel_size=(1, 1), stride=(1, 1))\n",
       "        (expand1x1_activation): ReLU(inplace)\n",
       "        (expand3x3): Conv2d(16, 64, kernel_size=(3, 3), stride=(1, 1), padding=(1, 1))\n",
       "        (expand3x3_activation): ReLU(inplace)\n",
       "      )\n",
       "      (5): MaxPool2d(kernel_size=3, stride=2, padding=0, dilation=1, ceil_mode=True)\n",
       "      (6): Fire(\n",
       "        (squeeze): Conv2d(128, 32, kernel_size=(1, 1), stride=(1, 1))\n",
       "        (squeeze_activation): ReLU(inplace)\n",
       "        (expand1x1): Conv2d(32, 128, kernel_size=(1, 1), stride=(1, 1))\n",
       "        (expand1x1_activation): ReLU(inplace)\n",
       "        (expand3x3): Conv2d(32, 128, kernel_size=(3, 3), stride=(1, 1), padding=(1, 1))\n",
       "        (expand3x3_activation): ReLU(inplace)\n",
       "      )\n",
       "      (7): Fire(\n",
       "        (squeeze): Conv2d(256, 32, kernel_size=(1, 1), stride=(1, 1))\n",
       "        (squeeze_activation): ReLU(inplace)\n",
       "        (expand1x1): Conv2d(32, 128, kernel_size=(1, 1), stride=(1, 1))\n",
       "        (expand1x1_activation): ReLU(inplace)\n",
       "        (expand3x3): Conv2d(32, 128, kernel_size=(3, 3), stride=(1, 1), padding=(1, 1))\n",
       "        (expand3x3_activation): ReLU(inplace)\n",
       "      )\n",
       "      (8): MaxPool2d(kernel_size=3, stride=2, padding=0, dilation=1, ceil_mode=True)\n",
       "      (9): Fire(\n",
       "        (squeeze): Conv2d(256, 48, kernel_size=(1, 1), stride=(1, 1))\n",
       "        (squeeze_activation): ReLU(inplace)\n",
       "        (expand1x1): Conv2d(48, 192, kernel_size=(1, 1), stride=(1, 1))\n",
       "        (expand1x1_activation): ReLU(inplace)\n",
       "        (expand3x3): Conv2d(48, 192, kernel_size=(3, 3), stride=(1, 1), padding=(1, 1))\n",
       "        (expand3x3_activation): ReLU(inplace)\n",
       "      )\n",
       "      (10): Fire(\n",
       "        (squeeze): Conv2d(384, 48, kernel_size=(1, 1), stride=(1, 1))\n",
       "        (squeeze_activation): ReLU(inplace)\n",
       "        (expand1x1): Conv2d(48, 192, kernel_size=(1, 1), stride=(1, 1))\n",
       "        (expand1x1_activation): ReLU(inplace)\n",
       "        (expand3x3): Conv2d(48, 192, kernel_size=(3, 3), stride=(1, 1), padding=(1, 1))\n",
       "        (expand3x3_activation): ReLU(inplace)\n",
       "      )\n",
       "      (11): Fire(\n",
       "        (squeeze): Conv2d(384, 64, kernel_size=(1, 1), stride=(1, 1))\n",
       "        (squeeze_activation): ReLU(inplace)\n",
       "        (expand1x1): Conv2d(64, 256, kernel_size=(1, 1), stride=(1, 1))\n",
       "        (expand1x1_activation): ReLU(inplace)\n",
       "        (expand3x3): Conv2d(64, 256, kernel_size=(3, 3), stride=(1, 1), padding=(1, 1))\n",
       "        (expand3x3_activation): ReLU(inplace)\n",
       "      )\n",
       "      (12): Fire(\n",
       "        (squeeze): Conv2d(512, 64, kernel_size=(1, 1), stride=(1, 1))\n",
       "        (squeeze_activation): ReLU(inplace)\n",
       "        (expand1x1): Conv2d(64, 256, kernel_size=(1, 1), stride=(1, 1))\n",
       "        (expand1x1_activation): ReLU(inplace)\n",
       "        (expand3x3): Conv2d(64, 256, kernel_size=(3, 3), stride=(1, 1), padding=(1, 1))\n",
       "        (expand3x3_activation): ReLU(inplace)\n",
       "      )\n",
       "    )\n",
       "  )\n",
       "  (head): Sequential(\n",
       "    (0): AdaptiveConcatPool2d(\n",
       "      (ap): AdaptiveAvgPool2d(output_size=1)\n",
       "      (mp): AdaptiveMaxPool2d(output_size=1)\n",
       "    )\n",
       "    (1): Lambda()\n",
       "    (2): BatchNorm1d(1024, eps=1e-05, momentum=0.1, affine=True, track_running_stats=True)\n",
       "    (3): Dropout(p=0.25)\n",
       "    (4): Linear(in_features=1024, out_features=800, bias=True)\n",
       "    (5): ReLU(inplace)\n",
       "    (6): BatchNorm1d(800, eps=1e-05, momentum=0.1, affine=True, track_running_stats=True)\n",
       "    (7): Dropout(p=0.25)\n",
       "    (8): Linear(in_features=800, out_features=500, bias=True)\n",
       "    (9): ReLU(inplace)\n",
       "    (10): BatchNorm1d(500, eps=1e-05, momentum=0.1, affine=True, track_running_stats=True)\n",
       "    (11): Dropout(p=0.25)\n",
       "    (12): Linear(in_features=500, out_features=300, bias=True)\n",
       "    (13): ReLU(inplace)\n",
       "    (14): BatchNorm1d(300, eps=1e-05, momentum=0.1, affine=True, track_running_stats=True)\n",
       "    (15): Dropout(p=0.25)\n",
       "    (16): Linear(in_features=300, out_features=100, bias=True)\n",
       "    (17): ReLU(inplace)\n",
       "    (18): BatchNorm1d(100, eps=1e-05, momentum=0.1, affine=True, track_running_stats=True)\n",
       "    (19): Dropout(p=0.25)\n",
       "    (20): Linear(in_features=100, out_features=50, bias=True)\n",
       "    (21): ReLU(inplace)\n",
       "    (22): BatchNorm1d(50, eps=1e-05, momentum=0.1, affine=True, track_running_stats=True)\n",
       "    (23): Dropout(p=0.25)\n",
       "    (24): Linear(in_features=50, out_features=20, bias=True)\n",
       "    (25): ReLU(inplace)\n",
       "    (26): BatchNorm1d(20, eps=1e-05, momentum=0.1, affine=True, track_running_stats=True)\n",
       "    (27): Dropout(p=0.5)\n",
       "    (28): Linear(in_features=20, out_features=20, bias=True)\n",
       "  )\n",
       "), opt_func=functools.partial(<class 'torch.optim.adam.Adam'>, betas=(0.9, 0.99)), loss_func=<function contrastive_loss at 0x7f7402627840>, metrics=[], true_wd=True, bn_wd=True, wd=0.01, train_bn=True, path=PosixPath('../data/vggface2/squeezenet'), model_dir='models', callback_fns=[<class 'fastai.basic_train.Recorder'>], callbacks=[<fastai.callbacks.tracker.TerminateOnNaNCallback object at 0x7f73ea54a5c0>, SaveModelCallback(learn=..., monitor='val_loss', mode='auto', every='improvement', name='bestmodel'), EarlyStoppingCallback(learn=..., monitor='val_loss', mode='auto', min_delta=0, patience=3)], layer_groups=[Sequential(\n",
       "  (0): Conv2d(3, 64, kernel_size=(3, 3), stride=(2, 2))\n",
       "  (1): ReLU(inplace)\n",
       "  (2): MaxPool2d(kernel_size=3, stride=2, padding=0, dilation=1, ceil_mode=True)\n",
       "  (3): Conv2d(64, 16, kernel_size=(1, 1), stride=(1, 1))\n",
       "  (4): ReLU(inplace)\n",
       "  (5): Conv2d(16, 64, kernel_size=(1, 1), stride=(1, 1))\n",
       "  (6): ReLU(inplace)\n",
       "  (7): Conv2d(16, 64, kernel_size=(3, 3), stride=(1, 1), padding=(1, 1))\n",
       "  (8): ReLU(inplace)\n",
       "  (9): Conv2d(128, 16, kernel_size=(1, 1), stride=(1, 1))\n",
       "  (10): ReLU(inplace)\n",
       "  (11): Conv2d(16, 64, kernel_size=(1, 1), stride=(1, 1))\n",
       "  (12): ReLU(inplace)\n",
       "  (13): Conv2d(16, 64, kernel_size=(3, 3), stride=(1, 1), padding=(1, 1))\n",
       "  (14): ReLU(inplace)\n",
       "  (15): MaxPool2d(kernel_size=3, stride=2, padding=0, dilation=1, ceil_mode=True)\n",
       "  (16): Conv2d(128, 32, kernel_size=(1, 1), stride=(1, 1))\n",
       "  (17): ReLU(inplace)\n",
       "  (18): Conv2d(32, 128, kernel_size=(1, 1), stride=(1, 1))\n",
       "  (19): ReLU(inplace)\n",
       "  (20): Conv2d(32, 128, kernel_size=(3, 3), stride=(1, 1), padding=(1, 1))\n",
       "  (21): ReLU(inplace)\n",
       "  (22): Conv2d(256, 32, kernel_size=(1, 1), stride=(1, 1))\n",
       "  (23): ReLU(inplace)\n",
       "  (24): Conv2d(32, 128, kernel_size=(1, 1), stride=(1, 1))\n",
       "  (25): ReLU(inplace)\n",
       "  (26): Conv2d(32, 128, kernel_size=(3, 3), stride=(1, 1), padding=(1, 1))\n",
       "  (27): ReLU(inplace)\n",
       "  (28): MaxPool2d(kernel_size=3, stride=2, padding=0, dilation=1, ceil_mode=True)\n",
       "  (29): Conv2d(256, 48, kernel_size=(1, 1), stride=(1, 1))\n",
       "  (30): ReLU(inplace)\n",
       "  (31): Conv2d(48, 192, kernel_size=(1, 1), stride=(1, 1))\n",
       "  (32): ReLU(inplace)\n",
       "  (33): Conv2d(48, 192, kernel_size=(3, 3), stride=(1, 1), padding=(1, 1))\n",
       "  (34): ReLU(inplace)\n",
       "  (35): Conv2d(384, 48, kernel_size=(1, 1), stride=(1, 1))\n",
       "  (36): ReLU(inplace)\n",
       "  (37): Conv2d(48, 192, kernel_size=(1, 1), stride=(1, 1))\n",
       "  (38): ReLU(inplace)\n",
       "  (39): Conv2d(48, 192, kernel_size=(3, 3), stride=(1, 1), padding=(1, 1))\n",
       "  (40): ReLU(inplace)\n",
       "  (41): Conv2d(384, 64, kernel_size=(1, 1), stride=(1, 1))\n",
       "  (42): ReLU(inplace)\n",
       "  (43): Conv2d(64, 256, kernel_size=(1, 1), stride=(1, 1))\n",
       "  (44): ReLU(inplace)\n",
       "  (45): Conv2d(64, 256, kernel_size=(3, 3), stride=(1, 1), padding=(1, 1))\n",
       "  (46): ReLU(inplace)\n",
       "  (47): Conv2d(512, 64, kernel_size=(1, 1), stride=(1, 1))\n",
       "  (48): ReLU(inplace)\n",
       "  (49): Conv2d(64, 256, kernel_size=(1, 1), stride=(1, 1))\n",
       "  (50): ReLU(inplace)\n",
       "  (51): Conv2d(64, 256, kernel_size=(3, 3), stride=(1, 1), padding=(1, 1))\n",
       "  (52): ReLU(inplace)\n",
       "  (53): AdaptiveAvgPool2d(output_size=1)\n",
       "  (54): AdaptiveMaxPool2d(output_size=1)\n",
       "  (55): Lambda()\n",
       "  (56): BatchNorm1d(1024, eps=1e-05, momentum=0.1, affine=True, track_running_stats=True)\n",
       "  (57): Dropout(p=0.25)\n",
       "  (58): Linear(in_features=1024, out_features=800, bias=True)\n",
       "  (59): ReLU(inplace)\n",
       "  (60): BatchNorm1d(800, eps=1e-05, momentum=0.1, affine=True, track_running_stats=True)\n",
       "  (61): Dropout(p=0.25)\n",
       "  (62): Linear(in_features=800, out_features=500, bias=True)\n",
       "  (63): BatchNorm1d(500, eps=1e-05, momentum=0.1, affine=True, track_running_stats=True)\n",
       "  (64): Dropout(p=0.25)\n",
       "  (65): Linear(in_features=500, out_features=300, bias=True)\n",
       "  (66): BatchNorm1d(300, eps=1e-05, momentum=0.1, affine=True, track_running_stats=True)\n",
       "  (67): Dropout(p=0.25)\n",
       "  (68): Linear(in_features=300, out_features=100, bias=True)\n",
       "  (69): BatchNorm1d(100, eps=1e-05, momentum=0.1, affine=True, track_running_stats=True)\n",
       "  (70): Dropout(p=0.25)\n",
       "  (71): Linear(in_features=100, out_features=50, bias=True)\n",
       "  (72): BatchNorm1d(50, eps=1e-05, momentum=0.1, affine=True, track_running_stats=True)\n",
       "  (73): Dropout(p=0.25)\n",
       "  (74): Linear(in_features=50, out_features=20, bias=True)\n",
       "  (75): BatchNorm1d(20, eps=1e-05, momentum=0.1, affine=True, track_running_stats=True)\n",
       "  (76): Dropout(p=0.5)\n",
       "  (77): Linear(in_features=20, out_features=20, bias=True)\n",
       ")])"
      ]
     },
     "execution_count": 16,
     "metadata": {},
     "output_type": "execute_result"
    }
   ],
   "source": [
    "learner.load('squeezenet_model')"
   ]
  },
  {
   "cell_type": "code",
   "execution_count": 17,
   "metadata": {},
   "outputs": [
    {
     "data": {
      "text/html": [
       "\n",
       "    <div>\n",
       "        <style>\n",
       "            /* Turns off some styling */\n",
       "            progress {\n",
       "                /* gets rid of default border in Firefox and Opera. */\n",
       "                border: none;\n",
       "                /* Needs to be in here for Safari polyfill so background images work as expected. */\n",
       "                background-size: auto;\n",
       "            }\n",
       "            .progress-bar-interrupted, .progress-bar-interrupted::-webkit-progress-bar {\n",
       "                background: #F44336;\n",
       "            }\n",
       "        </style>\n",
       "      <progress value='4' class='' max='10', style='width:300px; height:20px; vertical-align: middle;'></progress>\n",
       "      40.00% [4/10 2:13:24<3:20:07]\n",
       "    </div>\n",
       "    \n",
       "<table style='width:300px; margin-bottom:10px'>\n",
       "  <tr>\n",
       "    <th>epoch</th>\n",
       "    <th>train_loss</th>\n",
       "    <th>valid_loss</th>\n",
       "  </tr>\n",
       "  <tr>\n",
       "    <th>1</th>\n",
       "    <th>1.017660</th>\n",
       "    <th>1.999991</th>\n",
       "  </tr>\n",
       "  <tr>\n",
       "    <th>2</th>\n",
       "    <th>1.020460</th>\n",
       "    <th>1.999991</th>\n",
       "  </tr>\n",
       "  <tr>\n",
       "    <th>3</th>\n",
       "    <th>1.016296</th>\n",
       "    <th>1.999991</th>\n",
       "  </tr>\n",
       "  <tr>\n",
       "    <th>4</th>\n",
       "    <th>1.035443</th>\n",
       "    <th>1.999991</th>\n",
       "  </tr>\n",
       "</table>\n",
       "\n",
       "\n",
       "    <div>\n",
       "        <style>\n",
       "            /* Turns off some styling */\n",
       "            progress {\n",
       "                /* gets rid of default border in Firefox and Opera. */\n",
       "                border: none;\n",
       "                /* Needs to be in here for Safari polyfill so background images work as expected. */\n",
       "                background-size: auto;\n",
       "            }\n",
       "            .progress-bar-interrupted, .progress-bar-interrupted::-webkit-progress-bar {\n",
       "                background: #F44336;\n",
       "            }\n",
       "        </style>\n",
       "      <progress value='400' class='' max='400', style='width:300px; height:20px; vertical-align: middle;'></progress>\n",
       "      100.00% [400/400 00:13<00:00]\n",
       "    </div>\n",
       "    "
      ],
      "text/plain": [
       "<IPython.core.display.HTML object>"
      ]
     },
     "metadata": {},
     "output_type": "display_data"
    },
    {
     "name": "stderr",
     "output_type": "stream",
     "text": [
      "IOPub message rate exceeded.\n",
      "The notebook server will temporarily stop sending output\n",
      "to the client in order to avoid crashing it.\n",
      "To change this limit, set the config variable\n",
      "`--NotebookApp.iopub_msg_rate_limit`.\n",
      "\n",
      "Current values:\n",
      "NotebookApp.iopub_msg_rate_limit=1000.0 (msgs/sec)\n",
      "NotebookApp.rate_limit_window=3.0 (secs)\n",
      "\n"
     ]
    },
    {
     "name": "stdout",
     "output_type": "stream",
     "text": [
      "Epoch 5: early stopping\n"
     ]
    }
   ],
   "source": [
    "learner.fit_one_cycle(10)"
   ]
  },
  {
   "cell_type": "code",
   "execution_count": 18,
   "metadata": {},
   "outputs": [
    {
     "data": {
      "image/png": "[encoded data removed]",
      "text/plain": [
       "<Figure size 432x288 with 1 Axes>"
      ]
     },
     "metadata": {
      "needs_background": "light"
     },
     "output_type": "display_data"
    }
   ],
   "source": [
    "learner.recorder.plot()"
   ]
  },
  {
   "cell_type": "code",
   "execution_count": 19,
   "metadata": {},
   "outputs": [
    {
     "data": {
      "image/png": "[encoded data removed]",
      "text/plain": [
       "<Figure size 432x288 with 1 Axes>"
      ]
     },
     "metadata": {
      "needs_background": "light"
     },
     "output_type": "display_data"
    }
   ],
   "source": [
    "learner.recorder.plot_losses()"
   ]
  },
  {
   "cell_type": "code",
   "execution_count": 20,
   "metadata": {},
   "outputs": [],
   "source": [
    "learner.save('squeezenet_model')"
   ]
  },
  {
   "cell_type": "code",
   "execution_count": 21,
   "metadata": {},
   "outputs": [
    {
     "data": {
      "text/html": [
       "\n",
       "    <div>\n",
       "        <style>\n",
       "            /* Turns off some styling */\n",
       "            progress {\n",
       "                /* gets rid of default border in Firefox and Opera. */\n",
       "                border: none;\n",
       "                /* Needs to be in here for Safari polyfill so background images work as expected. */\n",
       "                background-size: auto;\n",
       "            }\n",
       "            .progress-bar-interrupted, .progress-bar-interrupted::-webkit-progress-bar {\n",
       "                background: #F44336;\n",
       "            }\n",
       "        </style>\n",
       "      <progress value='4' class='' max='10', style='width:300px; height:20px; vertical-align: middle;'></progress>\n",
       "      40.00% [4/10 2:13:43<3:20:35]\n",
       "    </div>\n",
       "    \n",
       "<table style='width:300px; margin-bottom:10px'>\n",
       "  <tr>\n",
       "    <th>epoch</th>\n",
       "    <th>train_loss</th>\n",
       "    <th>valid_loss</th>\n",
       "  </tr>\n",
       "  <tr>\n",
       "    <th>1</th>\n",
       "    <th>1.013121</th>\n",
       "    <th>1.999991</th>\n",
       "  </tr>\n",
       "  <tr>\n",
       "    <th>2</th>\n",
       "    <th>1.013917</th>\n",
       "    <th>1.999991</th>\n",
       "  </tr>\n",
       "  <tr>\n",
       "    <th>3</th>\n",
       "    <th>1.031749</th>\n",
       "    <th>1.999991</th>\n",
       "  </tr>\n",
       "  <tr>\n",
       "    <th>4</th>\n",
       "    <th>1.031574</th>\n",
       "    <th>1.999991</th>\n",
       "  </tr>\n",
       "</table>\n",
       "\n",
       "\n",
       "    <div>\n",
       "        <style>\n",
       "            /* Turns off some styling */\n",
       "            progress {\n",
       "                /* gets rid of default border in Firefox and Opera. */\n",
       "                border: none;\n",
       "                /* Needs to be in here for Safari polyfill so background images work as expected. */\n",
       "                background-size: auto;\n",
       "            }\n",
       "            .progress-bar-interrupted, .progress-bar-interrupted::-webkit-progress-bar {\n",
       "                background: #F44336;\n",
       "            }\n",
       "        </style>\n",
       "      <progress value='400' class='' max='400', style='width:300px; height:20px; vertical-align: middle;'></progress>\n",
       "      100.00% [400/400 00:16<00:00]\n",
       "    </div>\n",
       "    "
      ],
      "text/plain": [
       "<IPython.core.display.HTML object>"
      ]
     },
     "metadata": {},
     "output_type": "display_data"
    },
    {
     "name": "stdout",
     "output_type": "stream",
     "text": [
      "Epoch 5: early stopping\n"
     ]
    }
   ],
   "source": [
    "learner.fit_one_cycle(10)"
   ]
  },
  {
   "cell_type": "code",
   "execution_count": 22,
   "metadata": {},
   "outputs": [
    {
     "data": {
      "image/png": "[encoded data removed]",
      "text/plain": [
       "<Figure size 432x288 with 1 Axes>"
      ]
     },
     "metadata": {
      "needs_background": "light"
     },
     "output_type": "display_data"
    }
   ],
   "source": [
    "learner.recorder.plot()"
   ]
  },
  {
   "cell_type": "code",
   "execution_count": 23,
   "metadata": {},
   "outputs": [
    {
     "data": {
      "image/png": "[encoded data removed]",
      "text/plain": [
       "<Figure size 432x288 with 1 Axes>"
      ]
     },
     "metadata": {
      "needs_background": "light"
     },
     "output_type": "display_data"
    }
   ],
   "source": [
    "learner.recorder.plot_losses()"
   ]
  },
  {
   "cell_type": "code",
   "execution_count": null,
   "metadata": {},
   "outputs": [],
   "source": []
  }
 ],
 "metadata": {
  "kernelspec": {
   "display_name": "Python 3",
   "language": "python",
   "name": "python3"
  },
  "language_info": {
   "codemirror_mode": {
    "name": "ipython",
    "version": 3
   },
   "file_extension": ".py",
   "mimetype": "text/x-python",
   "name": "python",
   "nbconvert_exporter": "python",
   "pygments_lexer": "ipython3",
   "version": "3.7.2"
  },
  "toc": {
   "base_numbering": 1,
   "nav_menu": {},
   "number_sections": true,
   "sideBar": true,
   "skip_h1_title": false,
   "title_cell": "Table of Contents",
   "title_sidebar": "Contents",
   "toc_cell": false,
   "toc_position": {},
   "toc_section_display": "block",
   "toc_window_display": false
  }
 },
 "nbformat": 4,
 "nbformat_minor": 2
}
